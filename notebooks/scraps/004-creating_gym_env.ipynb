{
 "cells": [
  {
   "cell_type": "code",
   "execution_count": 2,
   "metadata": {},
   "outputs": [],
   "source": [
    "import osmnx as ox\n",
    "centre_point = (51.5074, 0.1278)\n",
    "G = ox.graph_from_point(centre_point, dist=150, network_type='drive')"
   ]
  },
  {
   "cell_type": "code",
   "execution_count": 29,
   "metadata": {},
   "outputs": [],
   "source": [
    "from typing import Tuple\n",
    "import gym\n",
    "from gym import spaces\n",
    "import numpy as np\n",
    "import networkx as nx\n",
    "class GraphEnvironment(gym.Env):\n",
    "    def __init__(self, G):\n",
    "        super(GraphEnvironment, self).__init__()\n",
    "\n",
    "        if not isinstance(G, nx.Graph):\n",
    "            raise ValueError(\"G must be a networkx Graph\")\n",
    "\n",
    "        self.G = G\n",
    "\n",
    "        # Create a mapping from node IDs to indices\n",
    "        self.node_to_index = {node: idx for idx, node in enumerate(G.nodes())}\n",
    "        self.index_to_node = {idx: node for node, idx in self.node_to_index.items()}\n",
    "\n",
    "        self.num_nodes = G.number_of_nodes()\n",
    "        self.num_edges = G.number_of_edges()\n",
    "\n",
    "        self.node_encoding = np.eye(self.num_nodes)\n",
    "        self.edge_encoding = np.eye(self.num_edges)\n",
    "\n",
    "        self.action_space = spaces.Discrete(self.num_nodes)\n",
    "        self.observation_space = spaces.Box(low=0, high=1, shape=(self.num_nodes,), dtype=np.float32)\n",
    "\n",
    "        self.current_state = None\n",
    "\n",
    "    def reset(self, seed=None, **kwargs):\n",
    "        self.seed(seed)\n",
    "\n",
    "        # Randomly select a starting node index\n",
    "        start_node_idx = np.random.choice(self.num_nodes)\n",
    "        start_node = self.index_to_node[start_node_idx]\n",
    "\n",
    "        self.current_state = self.node_encoding[start_node_idx]\n",
    "        observation = np.array(self.current_state, dtype=np.float32)\n",
    "\n",
    "        self.update_action_space(start_node)\n",
    "        return observation, {}\n",
    "\n",
    "    def update_action_space(self, current_node):\n",
    "        # Get the nodes connected to the current node\n",
    "        connected_nodes = list(self.G[current_node])\n",
    "        connected_node_indices = [self.node_to_index[node] for node in connected_nodes]\n",
    "\n",
    "        self.action_mapping = {idx: node for idx, node in enumerate(connected_nodes)}\n",
    "        self.action_space = spaces.Discrete(len(connected_nodes))\n",
    "\n",
    "    def step(self, action):\n",
    "        # Map the action to the actual node\n",
    "        chosen_node = self.action_mapping[action]\n",
    "        chosen_node_idx = self.node_to_index[chosen_node]\n",
    "\n",
    "        # Update current state and action space\n",
    "        self.current_state = self.node_encoding[chosen_node_idx]\n",
    "        self.update_action_space(chosen_node)\n",
    "\n",
    "        # Define your reward, done, and info\n",
    "        reward = ...  # Define your reward logic\n",
    "        done = ...    # Define your done logic\n",
    "        info = {}\n",
    "\n",
    "        return self.current_state, reward, done, info\n",
    "\n",
    "\n",
    "\n",
    "\n",
    "    def seed(self, seed=None):\n",
    "        # You can use the seed method to set the seed for the environment's random number generator\n",
    "        # This is optional and depends on whether your environment uses randomization\n",
    "        self.np_random, seed = gym.utils.seeding.np_random(seed)\n",
    "        return [seed]\n",
    "\n",
    "    def render(self, mode='human', close=False):\n",
    "        # Implement the render function (optional)\n",
    "        # ...\n",
    "        pass\n",
    "\n",
    "    def close(self):\n",
    "        # Implement the close method (optional)\n",
    "        # ...\n",
    "        pass\n",
    "    # Implement other methods (step, render, etc.) as needed\n"
   ]
  },
  {
   "cell_type": "code",
   "execution_count": 30,
   "metadata": {},
   "outputs": [],
   "source": [
    "env = GraphEnvironment(G=G)\n"
   ]
  },
  {
   "cell_type": "code",
   "execution_count": 32,
   "metadata": {},
   "outputs": [
    {
     "data": {
      "text/plain": [
       "(array([0., 0., 0., 0., 0., 0., 0., 0., 1., 0., 0., 0., 0., 0., 0., 0., 0.,\n",
       "        0., 0., 0., 0., 0., 0., 0., 0., 0., 0., 0., 0., 0., 0., 0.],\n",
       "       dtype=float32),\n",
       " {})"
      ]
     },
     "execution_count": 32,
     "metadata": {},
     "output_type": "execute_result"
    }
   ],
   "source": [
    "env.reset()"
   ]
  },
  {
   "cell_type": "code",
   "execution_count": 24,
   "metadata": {},
   "outputs": [
    {
     "data": {
      "text/plain": [
       "2"
      ]
     },
     "execution_count": 24,
     "metadata": {},
     "output_type": "execute_result"
    }
   ],
   "source": [
    "len(G[35486909])"
   ]
  },
  {
   "cell_type": "code",
   "execution_count": null,
   "metadata": {},
   "outputs": [],
   "source": []
  },
  {
   "cell_type": "code",
   "execution_count": 33,
   "metadata": {},
   "outputs": [
    {
     "name": "stderr",
     "output_type": "stream",
     "text": [
      "/Users/jackcontro/Library/Caches/pypoetry/virtualenvs/navigation-app-backend-SON1y8JS-py3.10/lib/python3.10/site-packages/gym/utils/env_checker.py:270: UserWarning: \u001b[33mWARN: `check_env(warn=...)` parameter is now ignored.\u001b[0m\n",
      "  logger.warn(\"`check_env(warn=...)` parameter is now ignored.\")\n",
      "/Users/jackcontro/Library/Caches/pypoetry/virtualenvs/navigation-app-backend-SON1y8JS-py3.10/lib/python3.10/site-packages/gym/utils/env_checker.py:186: UserWarning: \u001b[33mWARN: Official support for the `seed` function is dropped. Standard practice is to reset gym environments using `env.reset(seed=<desired seed>)`\u001b[0m\n",
      "  logger.warn(\n",
      "/Users/jackcontro/Library/Caches/pypoetry/virtualenvs/navigation-app-backend-SON1y8JS-py3.10/lib/python3.10/site-packages/gym/utils/passive_env_checker.py:219: DeprecationWarning: \u001b[33mWARN: Core environment is written in old step API which returns one bool instead of two. It is recommended to rewrite the environment with new step API. \u001b[0m\n",
      "  logger.deprecation(\n",
      "/Users/jackcontro/Library/Caches/pypoetry/virtualenvs/navigation-app-backend-SON1y8JS-py3.10/lib/python3.10/site-packages/gym/utils/passive_env_checker.py:225: DeprecationWarning: `np.bool8` is a deprecated alias for `np.bool_`.  (Deprecated NumPy 1.24)\n",
      "  if not isinstance(done, (bool, np.bool8)):\n",
      "/Users/jackcontro/Library/Caches/pypoetry/virtualenvs/navigation-app-backend-SON1y8JS-py3.10/lib/python3.10/site-packages/gym/utils/passive_env_checker.py:226: UserWarning: \u001b[33mWARN: Expects `done` signal to be a boolean, actual type: <class 'ellipsis'>\u001b[0m\n",
      "  logger.warn(\n",
      "/Users/jackcontro/Library/Caches/pypoetry/virtualenvs/navigation-app-backend-SON1y8JS-py3.10/lib/python3.10/site-packages/gym/utils/passive_env_checker.py:141: UserWarning: \u001b[33mWARN: The obs returned by the `step()` method was expecting numpy array dtype to be float32, actual type: float64\u001b[0m\n",
      "  logger.warn(\n",
      "/Users/jackcontro/Library/Caches/pypoetry/virtualenvs/navigation-app-backend-SON1y8JS-py3.10/lib/python3.10/site-packages/gym/utils/passive_env_checker.py:165: UserWarning: \u001b[33mWARN: The obs returned by the `step()` method is not within the observation space.\u001b[0m\n",
      "  logger.warn(f\"{pre} is not within the observation space.\")\n",
      "/Users/jackcontro/Library/Caches/pypoetry/virtualenvs/navigation-app-backend-SON1y8JS-py3.10/lib/python3.10/site-packages/gym/utils/passive_env_checker.py:252: UserWarning: \u001b[33mWARN: The reward returned by `step()` must be a float, int, np.integer or np.floating, actual type: <class 'ellipsis'>\u001b[0m\n",
      "  logger.warn(\n"
     ]
    }
   ],
   "source": [
    "from gym.utils.env_checker import check_env\n",
    "check_env(env, warn=True)"
   ]
  },
  {
   "cell_type": "code",
   "execution_count": 5,
   "metadata": {},
   "outputs": [
    {
     "data": {
      "text/plain": [
       "__main__.GraphEnvironment"
      ]
     },
     "execution_count": 5,
     "metadata": {},
     "output_type": "execute_result"
    }
   ],
   "source": []
  },
  {
   "cell_type": "code",
   "execution_count": 6,
   "metadata": {},
   "outputs": [
    {
     "data": {
      "text/plain": [
       "True"
      ]
     },
     "execution_count": 6,
     "metadata": {},
     "output_type": "execute_result"
    }
   ],
   "source": []
  },
  {
   "cell_type": "code",
   "execution_count": null,
   "metadata": {},
   "outputs": [],
   "source": []
  },
  {
   "cell_type": "code",
   "execution_count": null,
   "metadata": {},
   "outputs": [],
   "source": []
  }
 ],
 "metadata": {
  "kernelspec": {
   "display_name": "navigation-app-backend-SON1y8JS-py3.10",
   "language": "python",
   "name": "python3"
  },
  "language_info": {
   "codemirror_mode": {
    "name": "ipython",
    "version": 3
   },
   "file_extension": ".py",
   "mimetype": "text/x-python",
   "name": "python",
   "nbconvert_exporter": "python",
   "pygments_lexer": "ipython3",
   "version": "3.10.8"
  }
 },
 "nbformat": 4,
 "nbformat_minor": 2
}
