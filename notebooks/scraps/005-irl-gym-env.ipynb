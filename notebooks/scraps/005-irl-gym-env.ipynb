{
 "cells": [
  {
   "cell_type": "code",
   "execution_count": 1,
   "metadata": {},
   "outputs": [],
   "source": [
    "import matplotlib.pyplot as plt\n",
    "import torch as th\n",
    "from stable_baselines3.common.vec_env import DummyVecEnv\n",
    "\n",
    "import numpy as np\n",
    "\n",
    "from imitation.algorithms.mce_irl import (\n",
    "    MCEIRL,\n",
    "    mce_occupancy_measures,\n",
    "    mce_partition_fh,\n",
    "    TabularPolicy,\n",
    ")\n",
    "from imitation.data import rollout\n",
    "from imitation.rewards import reward_nets\n"
   ]
  },
  {
   "cell_type": "code",
   "execution_count": 2,
   "metadata": {},
   "outputs": [],
   "source": [
    "from typing import Tuple\n",
    "import gym\n",
    "from gymnasium import spaces\n",
    "import numpy as np\n",
    "import networkx as nx\n",
    "\n",
    "\n",
    "class GraphEnvironment(gym.Env):\n",
    "    def __init__(self, G):\n",
    "        super(GraphEnvironment, self).__init__()\n",
    "\n",
    "        if not isinstance(G, nx.Graph):\n",
    "            raise ValueError(\"G must be a networkx Graph\")\n",
    "\n",
    "        self.G = G\n",
    "\n",
    "        # Create a mapping from node IDs to indices\n",
    "        self.node_to_index = {node: idx for idx, node in enumerate(G.nodes())}\n",
    "        self.index_to_node = {idx: node for node, idx in self.node_to_index.items()}\n",
    "\n",
    "        self.num_nodes = G.number_of_nodes()\n",
    "        self.num_edges = G.number_of_edges()\n",
    "\n",
    "        self.node_encoding = np.eye(self.num_nodes)\n",
    "        self.edge_encoding = np.eye(self.num_edges)\n",
    "\n",
    "        self.action_space = spaces.Discrete(self.num_nodes)\n",
    "        self.observation_space = spaces.Box(low=0, high=1, shape=(self.num_nodes,), dtype=np.float32)\n",
    "\n",
    "        self.current_state = None\n",
    "\n",
    "    def reset(self, seed=None, **kwargs):\n",
    "        self.seed(seed)\n",
    "\n",
    "        # Randomly select a starting node index\n",
    "        start_node_idx = np.random.choice(self.num_nodes)\n",
    "        start_node = self.index_to_node[start_node_idx]\n",
    "\n",
    "        self.current_state = self.node_encoding[start_node_idx]\n",
    "        observation = np.array(self.current_state, dtype=np.float32)\n",
    "\n",
    "        self.update_action_space(start_node)\n",
    "        return observation, {}\n",
    "\n",
    "    def update_action_space(self, current_node):\n",
    "        # Get the nodes connected to the current node\n",
    "        connected_nodes = list(self.G[current_node])\n",
    "        connected_node_indices = [self.node_to_index[node] for node in connected_nodes]\n",
    "\n",
    "        self.action_mapping = {idx: node for idx, node in enumerate(connected_nodes)}\n",
    "        self.action_space = spaces.Discrete(len(connected_nodes))\n",
    "\n",
    "    def step(self, action):\n",
    "        # We don't care about the step mechanics because we don't want an accurate simulation of navigation app, just imitation learning to learn the reward function\n",
    "\n",
    "        # Map the action to the actual node\n",
    "        chosen_node = self.action_mapping[action]\n",
    "        chosen_node_idx = self.node_to_index[chosen_node]\n",
    "\n",
    "        # Update current state and action space\n",
    "        self.current_state = self.node_encoding[chosen_node_idx]\n",
    "        self.update_action_space(chosen_node)\n",
    "\n",
    "        # Define your reward, done, and info\n",
    "        reward = ...  # Define your reward logic\n",
    "        done = ...    # Define your done logic\n",
    "        info = {}\n",
    "\n",
    "        return self.current_state, reward, done, info\n",
    "\n",
    "    def seed(self, seed=None):\n",
    "        # You can use the seed method to set the seed for the environment's random number generator\n",
    "        # This is optional and depends on whether your environment uses randomization\n",
    "        self.np_random, seed = gym.utils.seeding.np_random(seed)\n",
    "        return [seed]\n",
    "\n",
    "    def render(self, mode='human', close=False):\n",
    "        # Implement the render function (optional)\n",
    "        # ...\n",
    "        pass\n",
    "\n",
    "    def close(self):\n",
    "        # Implement the close method (optional)\n",
    "        # ...\n",
    "        pass\n",
    "    # Implement other methods (step, render, etc.) as needed\n"
   ]
  },
  {
   "cell_type": "code",
   "execution_count": 3,
   "metadata": {},
   "outputs": [],
   "source": [
    "import osmnx as ox\n",
    "centre_point = (51.5074, 0.1278)\n",
    "G = ox.graph_from_point(centre_point, dist=150, network_type='drive')"
   ]
  },
  {
   "cell_type": "code",
   "execution_count": 4,
   "metadata": {},
   "outputs": [],
   "source": [
    "env = GraphEnvironment(G=G)"
   ]
  },
  {
   "cell_type": "code",
   "execution_count": 5,
   "metadata": {},
   "outputs": [],
   "source": [
    "\n",
    "# def train_mce_irl(demos, hidden_sizes, lr=0.01, **kwargs):\n",
    "#     reward_net = reward_nets.BasicRewardNet(\n",
    "#         env.observation_space,\n",
    "#         env.action_space,\n",
    "#         hid_sizes=hidden_sizes,\n",
    "#         use_action=False,\n",
    "#         use_done=False,\n",
    "#         use_next_state=False,\n",
    "#     )\n",
    "\n",
    "#     mce_irl = MCEIRL(\n",
    "#         demos,\n",
    "#         env,\n",
    "#         reward_net,\n",
    "#         log_interval=250,\n",
    "#         optimizer_kwargs=dict(lr=lr),\n",
    "#         rng=rng,\n",
    "#     )\n",
    "#     occ_measure = mce_irl.train(**kwargs)\n",
    "\n",
    "#     imitation_trajs = rollout.generate_trajectories(\n",
    "#         policy=mce_irl.policy,\n",
    "#         venv=state_venv,\n",
    "#         sample_until=rollout.make_min_timesteps(5000),\n",
    "#         rng=rng,\n",
    "#     )\n",
    "#     print(\"Imitation stats: \", rollout.rollout_stats(imitation_trajs))\n",
    "\n",
    "#     plt.figure(figsize=(10, 5))\n",
    "#     plt.subplot(1, 2, 1)\n",
    "#     env.draw_value_vec(occ_measure)\n",
    "#     plt.title(\"Occupancy for learned reward\")\n",
    "#     plt.xlabel(\"Gridworld x-coordinate\")\n",
    "#     plt.ylabel(\"Gridworld y-coordinate\")\n",
    "#     plt.subplot(1, 2, 2)\n",
    "#     _, true_occ_measure = mce_occupancy_measures(env)\n",
    "#     env.draw_value_vec(true_occ_measure)\n",
    "#     plt.title(\"Occupancy for true reward\")\n",
    "#     plt.xlabel(\"Gridworld x-coordinate\")\n",
    "#     plt.ylabel(\"Gridworld y-coordinate\")\n",
    "#     plt.show()\n",
    "\n",
    "#     plt.figure(figsize=(10, 5))\n",
    "#     plt.subplot(1, 2, 1)\n",
    "#     env.draw_value_vec(\n",
    "#         reward_net(th.as_tensor(env.observation_matrix), None, None, None)\n",
    "#         .detach()\n",
    "#         .numpy()\n",
    "#     )\n",
    "#     plt.title(\"Learned reward\")\n",
    "#     plt.xlabel(\"Gridworld x-coordinate\")\n",
    "#     plt.ylabel(\"Gridworld y-coordinate\")\n",
    "#     plt.subplot(1, 2, 2)\n",
    "#     env.draw_value_vec(env.reward_matrix)\n",
    "#     plt.title(\"True reward\")\n",
    "#     plt.xlabel(\"Gridworld x-coordinate\")\n",
    "#     plt.ylabel(\"Gridworld y-coordinate\")\n",
    "#     plt.show()\n",
    "\n",
    "#     return mce_irl"
   ]
  },
  {
   "cell_type": "code",
   "execution_count": 6,
   "metadata": {},
   "outputs": [],
   "source": [
    "def train_mce_irl(env, demos, hidden_sizes, lr=0.01, **kwargs):\n",
    "    reward_net = reward_nets.BasicRewardNet(\n",
    "        observation_space=env.observation_space,\n",
    "        action_space=env.action_space,\n",
    "        hid_sizes=hidden_sizes,\n",
    "        use_action=False,\n",
    "        use_done=False,\n",
    "        use_next_state=False,\n",
    "    )\n",
    "\n",
    "    # Assuming rng is defined; otherwise, you need to define it\n",
    "    rng = np.random.default_rng()\n",
    "\n",
    "    mce_irl = MCEIRL(\n",
    "        demos,\n",
    "        env,\n",
    "        reward_net,\n",
    "        log_interval=250,\n",
    "        optimizer_kwargs=dict(lr=lr),\n",
    "        rng=rng,\n",
    "    )\n",
    "    occ_measure = mce_irl.train(**kwargs)\n",
    "\n",
    "    # ... (rest of your training function)\n"
   ]
  },
  {
   "cell_type": "code",
   "execution_count": 15,
   "metadata": {},
   "outputs": [],
   "source": [
    "import numpy as np\n",
    "\n",
    "demos = []\n",
    "num_demos = 20\n",
    "demo_length = 5  # Assuming each demo has 5 steps\n",
    "\n",
    "for _ in range(num_demos):\n",
    "    # Sample random nodes from G\n",
    "    random_nodes = np.random.choice(list(G.nodes()), size=demo_length, replace=False)\n",
    "    \n",
    "    for i in range(demo_length - 1):\n",
    "        # Current observation (state)\n",
    "        obs = env.node_encoding[env.node_to_index[random_nodes[i]]] \n",
    "        if not isinstance(obs, np.ndarray):\n",
    "            obs = np.array(obs)\n",
    "\n",
    "        # Next observation (state)\n",
    "        next_obs = env.node_encoding[env.node_to_index[random_nodes[i + 1]]]\n",
    "        if not isinstance(next_obs, np.ndarray):\n",
    "            next_obs = np.array(next_obs)\n",
    "\n",
    "        # Assuming the action is the index of the next node\n",
    "        # This depends on how your environment defines actions\n",
    "        action = env.node_to_index[random_nodes[i + 1]]\n",
    "\n",
    "        # Convert action to a numpy array if it's not already\n",
    "        if not isinstance(action, np.ndarray):\n",
    "            action = np.array([action])  # Make it an array\n",
    "\n",
    "        # Check if it's the last step in the demo\n",
    "        done = i == (demo_length - 2)\n",
    "\n",
    "        demo_step = {\n",
    "            \"obs\": obs,\n",
    "            \"actions\": action,\n",
    "            \"next_obs\": next_obs,\n",
    "            # \"dones\": np.array([done])  # Make sure done is an array\n",
    "        }\n",
    "        demos.append(demo_step)\n"
   ]
  },
  {
   "cell_type": "code",
   "execution_count": 16,
   "metadata": {},
   "outputs": [
    {
     "data": {
      "text/plain": [
       "{'obs': array([0., 0., 0., 0., 0., 0., 0., 0., 0., 0., 0., 0., 0., 0., 0., 0., 0.,\n",
       "        0., 0., 0., 0., 0., 0., 0., 1., 0., 0., 0., 0., 0., 0., 0.]),\n",
       " 'actions': array([10]),\n",
       " 'next_obs': array([0., 0., 0., 0., 0., 0., 0., 0., 0., 0., 1., 0., 0., 0., 0., 0., 0.,\n",
       "        0., 0., 0., 0., 0., 0., 0., 0., 0., 0., 0., 0., 0., 0., 0.])}"
      ]
     },
     "execution_count": 16,
     "metadata": {},
     "output_type": "execute_result"
    }
   ],
   "source": [
    "demos[-1]"
   ]
  },
  {
   "cell_type": "code",
   "execution_count": 17,
   "metadata": {},
   "outputs": [
    {
     "data": {
      "text/plain": [
       "32"
      ]
     },
     "execution_count": 17,
     "metadata": {},
     "output_type": "execute_result"
    }
   ],
   "source": [
    "len(G.nodes())"
   ]
  },
  {
   "cell_type": "code",
   "execution_count": 18,
   "metadata": {},
   "outputs": [
    {
     "data": {
      "text/plain": [
       "32"
      ]
     },
     "execution_count": 18,
     "metadata": {},
     "output_type": "execute_result"
    }
   ],
   "source": [
    "len(demos[0]['obs'])"
   ]
  },
  {
   "cell_type": "code",
   "execution_count": 19,
   "metadata": {},
   "outputs": [
    {
     "ename": "AttributeError",
     "evalue": "'GraphEnvironment' object has no attribute 'state_dim'",
     "output_type": "error",
     "traceback": [
      "\u001b[0;31m---------------------------------------------------------------------------\u001b[0m",
      "\u001b[0;31mAttributeError\u001b[0m                            Traceback (most recent call last)",
      "\u001b[1;32m/Users/jackcontro/Library/CloudStorage/OneDrive-King'sCollegeLondon/code/navigation-app-backend/notebooks/scraps/005-irl-gym-env.ipynb Cell 11\u001b[0m line \u001b[0;36m1\n\u001b[0;32m----> <a href='vscode-notebook-cell:/Users/jackcontro/Library/CloudStorage/OneDrive-King%27sCollegeLondon/code/navigation-app-backend/notebooks/scraps/005-irl-gym-env.ipynb#X11sZmlsZQ%3D%3D?line=0'>1</a>\u001b[0m mce_irl_model \u001b[39m=\u001b[39m train_mce_irl(env, demos, hidden_sizes\u001b[39m=\u001b[39;49m[\u001b[39m64\u001b[39;49m, \u001b[39m64\u001b[39;49m])\n",
      "\u001b[1;32m/Users/jackcontro/Library/CloudStorage/OneDrive-King'sCollegeLondon/code/navigation-app-backend/notebooks/scraps/005-irl-gym-env.ipynb Cell 11\u001b[0m line \u001b[0;36m1\n\u001b[1;32m     <a href='vscode-notebook-cell:/Users/jackcontro/Library/CloudStorage/OneDrive-King%27sCollegeLondon/code/navigation-app-backend/notebooks/scraps/005-irl-gym-env.ipynb#X11sZmlsZQ%3D%3D?line=10'>11</a>\u001b[0m \u001b[39m# Assuming rng is defined; otherwise, you need to define it\u001b[39;00m\n\u001b[1;32m     <a href='vscode-notebook-cell:/Users/jackcontro/Library/CloudStorage/OneDrive-King%27sCollegeLondon/code/navigation-app-backend/notebooks/scraps/005-irl-gym-env.ipynb#X11sZmlsZQ%3D%3D?line=11'>12</a>\u001b[0m rng \u001b[39m=\u001b[39m np\u001b[39m.\u001b[39mrandom\u001b[39m.\u001b[39mdefault_rng()\n\u001b[0;32m---> <a href='vscode-notebook-cell:/Users/jackcontro/Library/CloudStorage/OneDrive-King%27sCollegeLondon/code/navigation-app-backend/notebooks/scraps/005-irl-gym-env.ipynb#X11sZmlsZQ%3D%3D?line=13'>14</a>\u001b[0m mce_irl \u001b[39m=\u001b[39m MCEIRL(\n\u001b[1;32m     <a href='vscode-notebook-cell:/Users/jackcontro/Library/CloudStorage/OneDrive-King%27sCollegeLondon/code/navigation-app-backend/notebooks/scraps/005-irl-gym-env.ipynb#X11sZmlsZQ%3D%3D?line=14'>15</a>\u001b[0m     demos,\n\u001b[1;32m     <a href='vscode-notebook-cell:/Users/jackcontro/Library/CloudStorage/OneDrive-King%27sCollegeLondon/code/navigation-app-backend/notebooks/scraps/005-irl-gym-env.ipynb#X11sZmlsZQ%3D%3D?line=15'>16</a>\u001b[0m     env,\n\u001b[1;32m     <a href='vscode-notebook-cell:/Users/jackcontro/Library/CloudStorage/OneDrive-King%27sCollegeLondon/code/navigation-app-backend/notebooks/scraps/005-irl-gym-env.ipynb#X11sZmlsZQ%3D%3D?line=16'>17</a>\u001b[0m     reward_net,\n\u001b[1;32m     <a href='vscode-notebook-cell:/Users/jackcontro/Library/CloudStorage/OneDrive-King%27sCollegeLondon/code/navigation-app-backend/notebooks/scraps/005-irl-gym-env.ipynb#X11sZmlsZQ%3D%3D?line=17'>18</a>\u001b[0m     log_interval\u001b[39m=\u001b[39;49m\u001b[39m250\u001b[39;49m,\n\u001b[1;32m     <a href='vscode-notebook-cell:/Users/jackcontro/Library/CloudStorage/OneDrive-King%27sCollegeLondon/code/navigation-app-backend/notebooks/scraps/005-irl-gym-env.ipynb#X11sZmlsZQ%3D%3D?line=18'>19</a>\u001b[0m     optimizer_kwargs\u001b[39m=\u001b[39;49m\u001b[39mdict\u001b[39;49m(lr\u001b[39m=\u001b[39;49mlr),\n\u001b[1;32m     <a href='vscode-notebook-cell:/Users/jackcontro/Library/CloudStorage/OneDrive-King%27sCollegeLondon/code/navigation-app-backend/notebooks/scraps/005-irl-gym-env.ipynb#X11sZmlsZQ%3D%3D?line=19'>20</a>\u001b[0m     rng\u001b[39m=\u001b[39;49mrng,\n\u001b[1;32m     <a href='vscode-notebook-cell:/Users/jackcontro/Library/CloudStorage/OneDrive-King%27sCollegeLondon/code/navigation-app-backend/notebooks/scraps/005-irl-gym-env.ipynb#X11sZmlsZQ%3D%3D?line=20'>21</a>\u001b[0m )\n\u001b[1;32m     <a href='vscode-notebook-cell:/Users/jackcontro/Library/CloudStorage/OneDrive-King%27sCollegeLondon/code/navigation-app-backend/notebooks/scraps/005-irl-gym-env.ipynb#X11sZmlsZQ%3D%3D?line=21'>22</a>\u001b[0m occ_measure \u001b[39m=\u001b[39m mce_irl\u001b[39m.\u001b[39mtrain(\u001b[39m*\u001b[39m\u001b[39m*\u001b[39mkwargs)\n",
      "File \u001b[0;32m~/Library/Caches/pypoetry/virtualenvs/navigation-app-backend-SON1y8JS-py3.10/lib/python3.10/site-packages/imitation/algorithms/mce_irl.py:328\u001b[0m, in \u001b[0;36mMCEIRL.__init__\u001b[0;34m(self, demonstrations, env, reward_net, rng, optimizer_cls, optimizer_kwargs, discount, linf_eps, grad_l2_eps, log_interval, custom_logger)\u001b[0m\n\u001b[1;32m    326\u001b[0m \u001b[39mself\u001b[39m\u001b[39m.\u001b[39menv \u001b[39m=\u001b[39m env\n\u001b[1;32m    327\u001b[0m \u001b[39mself\u001b[39m\u001b[39m.\u001b[39mdemo_state_om \u001b[39m=\u001b[39m \u001b[39mNone\u001b[39;00m\n\u001b[0;32m--> 328\u001b[0m \u001b[39msuper\u001b[39;49m()\u001b[39m.\u001b[39;49m\u001b[39m__init__\u001b[39;49m(\n\u001b[1;32m    329\u001b[0m     demonstrations\u001b[39m=\u001b[39;49mdemonstrations,\n\u001b[1;32m    330\u001b[0m     custom_logger\u001b[39m=\u001b[39;49mcustom_logger,\n\u001b[1;32m    331\u001b[0m )\n\u001b[1;32m    333\u001b[0m \u001b[39mself\u001b[39m\u001b[39m.\u001b[39mreward_net \u001b[39m=\u001b[39m reward_net\n\u001b[1;32m    334\u001b[0m optimizer_kwargs \u001b[39m=\u001b[39m optimizer_kwargs \u001b[39mor\u001b[39;00m {\u001b[39m\"\u001b[39m\u001b[39mlr\u001b[39m\u001b[39m\"\u001b[39m: \u001b[39m1e-2\u001b[39m}\n",
      "File \u001b[0;32m~/Library/Caches/pypoetry/virtualenvs/navigation-app-backend-SON1y8JS-py3.10/lib/python3.10/site-packages/imitation/algorithms/base.py:164\u001b[0m, in \u001b[0;36mDemonstrationAlgorithm.__init__\u001b[0;34m(self, demonstrations, custom_logger, allow_variable_horizon)\u001b[0m\n\u001b[1;32m    158\u001b[0m \u001b[39msuper\u001b[39m()\u001b[39m.\u001b[39m\u001b[39m__init__\u001b[39m(\n\u001b[1;32m    159\u001b[0m     custom_logger\u001b[39m=\u001b[39mcustom_logger,\n\u001b[1;32m    160\u001b[0m     allow_variable_horizon\u001b[39m=\u001b[39mallow_variable_horizon,\n\u001b[1;32m    161\u001b[0m )\n\u001b[1;32m    163\u001b[0m \u001b[39mif\u001b[39;00m demonstrations \u001b[39mis\u001b[39;00m \u001b[39mnot\u001b[39;00m \u001b[39mNone\u001b[39;00m:\n\u001b[0;32m--> 164\u001b[0m     \u001b[39mself\u001b[39;49m\u001b[39m.\u001b[39;49mset_demonstrations(demonstrations)\n",
      "File \u001b[0;32m~/Library/Caches/pypoetry/virtualenvs/navigation-app-backend-SON1y8JS-py3.10/lib/python3.10/site-packages/imitation/algorithms/mce_irl.py:456\u001b[0m, in \u001b[0;36mMCEIRL.set_demonstrations\u001b[0;34m(self, demonstrations)\u001b[0m\n\u001b[1;32m    454\u001b[0m     \u001b[39mfor\u001b[39;00m k, v \u001b[39min\u001b[39;00m collated\u001b[39m.\u001b[39mitems():\n\u001b[1;32m    455\u001b[0m         \u001b[39massert\u001b[39;00m \u001b[39mlen\u001b[39m(v) \u001b[39m==\u001b[39m \u001b[39mlen\u001b[39m(collated[\u001b[39m\"\u001b[39m\u001b[39mobs\u001b[39m\u001b[39m\"\u001b[39m]), k\n\u001b[0;32m--> 456\u001b[0m     \u001b[39mself\u001b[39;49m\u001b[39m.\u001b[39;49m_set_demo_from_obs(\n\u001b[1;32m    457\u001b[0m         collated[\u001b[39m\"\u001b[39;49m\u001b[39mobs\u001b[39;49m\u001b[39m\"\u001b[39;49m],\n\u001b[1;32m    458\u001b[0m         collated\u001b[39m.\u001b[39;49mget(\u001b[39m\"\u001b[39;49m\u001b[39mdones\u001b[39;49m\u001b[39m\"\u001b[39;49m),\n\u001b[1;32m    459\u001b[0m         collated\u001b[39m.\u001b[39;49mget(\u001b[39m\"\u001b[39;49m\u001b[39mnext_obs\u001b[39;49m\u001b[39m\"\u001b[39;49m),\n\u001b[1;32m    460\u001b[0m     )\n\u001b[1;32m    461\u001b[0m \u001b[39melse\u001b[39;00m:\n\u001b[1;32m    462\u001b[0m     \u001b[39mraise\u001b[39;00m \u001b[39mTypeError\u001b[39;00m(\n\u001b[1;32m    463\u001b[0m         \u001b[39mf\u001b[39m\u001b[39m\"\u001b[39m\u001b[39mUnsupported demonstration type \u001b[39m\u001b[39m{\u001b[39;00m\u001b[39mtype\u001b[39m(demonstrations)\u001b[39m}\u001b[39;00m\u001b[39m\"\u001b[39m,\n\u001b[1;32m    464\u001b[0m     )\n",
      "File \u001b[0;32m~/Library/Caches/pypoetry/virtualenvs/navigation-app-backend-SON1y8JS-py3.10/lib/python3.10/site-packages/imitation/algorithms/mce_irl.py:373\u001b[0m, in \u001b[0;36mMCEIRL._set_demo_from_obs\u001b[0;34m(self, obses, dones, next_obses)\u001b[0m\n\u001b[1;32m    367\u001b[0m \u001b[39mdef\u001b[39;00m \u001b[39m_set_demo_from_obs\u001b[39m(\n\u001b[1;32m    368\u001b[0m     \u001b[39mself\u001b[39m,\n\u001b[1;32m    369\u001b[0m     obses: np\u001b[39m.\u001b[39mndarray,\n\u001b[1;32m    370\u001b[0m     dones: Optional[np\u001b[39m.\u001b[39mndarray],\n\u001b[1;32m    371\u001b[0m     next_obses: Optional[np\u001b[39m.\u001b[39mndarray],\n\u001b[1;32m    372\u001b[0m ) \u001b[39m-\u001b[39m\u001b[39m>\u001b[39m \u001b[39mNone\u001b[39;00m:\n\u001b[0;32m--> 373\u001b[0m     \u001b[39mself\u001b[39m\u001b[39m.\u001b[39mdemo_state_om \u001b[39m=\u001b[39m np\u001b[39m.\u001b[39mzeros((\u001b[39mself\u001b[39;49m\u001b[39m.\u001b[39;49menv\u001b[39m.\u001b[39;49mstate_dim,))\n\u001b[1;32m    375\u001b[0m     \u001b[39mfor\u001b[39;00m obs \u001b[39min\u001b[39;00m obses:\n\u001b[1;32m    376\u001b[0m         \u001b[39mif\u001b[39;00m \u001b[39misinstance\u001b[39m(obs, th\u001b[39m.\u001b[39mTensor):\n",
      "\u001b[0;31mAttributeError\u001b[0m: 'GraphEnvironment' object has no attribute 'state_dim'"
     ]
    }
   ],
   "source": [
    "mce_irl_model = train_mce_irl(env, demos, hidden_sizes=[64, 64])"
   ]
  },
  {
   "cell_type": "code",
   "execution_count": null,
   "metadata": {},
   "outputs": [
    {
     "data": {
      "text/plain": [
       "Box(0.0, 1.0, (32,), float32)"
      ]
     },
     "execution_count": 17,
     "metadata": {},
     "output_type": "execute_result"
    }
   ],
   "source": [
    "env.observation_space"
   ]
  },
  {
   "cell_type": "code",
   "execution_count": null,
   "metadata": {},
   "outputs": [
    {
     "data": {
      "text/plain": [
       "32"
      ]
     },
     "execution_count": 10,
     "metadata": {},
     "output_type": "execute_result"
    }
   ],
   "source": [
    "spaces.utils.flatdim(env.observation_space)\n"
   ]
  },
  {
   "cell_type": "code",
   "execution_count": null,
   "metadata": {},
   "outputs": [
    {
     "data": {
      "text/plain": [
       "array(Box(0.0, 1.0, (32,), float32), dtype=object)"
      ]
     },
     "execution_count": 20,
     "metadata": {},
     "output_type": "execute_result"
    }
   ],
   "source": []
  },
  {
   "cell_type": "code",
   "execution_count": null,
   "metadata": {},
   "outputs": [],
   "source": []
  }
 ],
 "metadata": {
  "kernelspec": {
   "display_name": "navigation-app-backend-SON1y8JS-py3.10",
   "language": "python",
   "name": "python3"
  },
  "language_info": {
   "codemirror_mode": {
    "name": "ipython",
    "version": 3
   },
   "file_extension": ".py",
   "mimetype": "text/x-python",
   "name": "python",
   "nbconvert_exporter": "python",
   "pygments_lexer": "ipython3",
   "version": "3.10.8"
  }
 },
 "nbformat": 4,
 "nbformat_minor": 2
}
